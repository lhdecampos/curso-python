{
 "cells": [
  {
   "cell_type": "code",
   "execution_count": 5,
   "metadata": {},
   "outputs": [
    {
     "name": "stdout",
     "output_type": "stream",
     "text": [
      "Hello world\n"
     ]
    }
   ],
   "source": [
    "#comentario de uma linha \n",
    "\n",
    "\"\"\"\n",
    "comentario de paragrafo\n",
    "\"\"\"\n",
    "\n",
    "print (\"Hello world\")"
   ]
  },
  {
   "cell_type": "code",
   "execution_count": 6,
   "metadata": {},
   "outputs": [
    {
     "name": "stdout",
     "output_type": "stream",
     "text": [
      "42\n",
      "inteiro:  42\n",
      "flutuante:  42.3\n",
      "Complexo:  (3+4j)\n",
      "Texto:  Hello World\n",
      "lista:  [1, 2, 3]\n",
      "tupla:  (1, 2, 3, 4, 5)\n",
      "Conjunto:  {1, 2, 3}\n",
      "dicionario:  {'chave': 'valor'}\n",
      "boleano:  True\n",
      "None type:  None\n"
     ]
    }
   ],
   "source": [
    "inteiro = 42\n",
    "print (inteiro)\n",
    "print (\"inteiro: \", inteiro)\n",
    "\n",
    "flutuante = 42.3\n",
    "print (\"flutuante: \", flutuante)\n",
    "\n",
    "#junção de inteiro mais um abstrato\n",
    "complexo = 3 + 4j\n",
    "print (\"Complexo: \", complexo)\n",
    "\n",
    "#tipo string\n",
    "texto = \"Hello World\"\n",
    "print (\"Texto: \", texto)\n",
    "\n",
    "#uma lista é mutavel\n",
    "lista = [1, 2, 3]\n",
    "print (\"lista: \", lista)\n",
    "\n",
    "#uma tupla não é mutavel\n",
    "tupla = (1, 2, 3, 4, 5)\n",
    "print (\"tupla: \", tupla)\n",
    "\n",
    "#conjunto são os itens únicos que são: não ordenados e não se repetem \n",
    "conjunto = {1, 2, 3, 2}\n",
    "print (\"Conjunto: \", conjunto)\n",
    "\n",
    "#dicionarios umas coleção não ordenada de pares chave-valor\n",
    "dicionario = {\"chave\": \"valor\" }\n",
    "print (\"dicionario: \", dicionario)\n",
    "\n",
    "boolean = True\n",
    "print (\"boleano: \",boolean)\n",
    "\n",
    "nenhum = None\n",
    "print (\"None type: \", nenhum)"
   ]
  },
  {
   "cell_type": "code",
   "execution_count": 13,
   "metadata": {},
   "outputs": [
    {
     "name": "stdout",
     "output_type": "stream",
     "text": [
      "Nome:  Luis\n",
      "Idade:  30\n",
      "Nome:  Luis , Idade:  30\n"
     ]
    }
   ],
   "source": [
    "#variaveis \n",
    "\n",
    "idade = 30\n",
    "nome = \"Luis\"\n",
    "\n",
    "print(\"Nome: \", nome)\n",
    "print(\"Idade: \", idade)\n",
    "print(\"Nome: \",nome,\",\", \"Idade: \", idade)"
   ]
  },
  {
   "cell_type": "code",
   "execution_count": 18,
   "metadata": {},
   "outputs": [
    {
     "name": "stdout",
     "output_type": "stream",
     "text": [
      "<class 'str'>\n",
      "<class 'int'>\n"
     ]
    }
   ],
   "source": [
    "#para saber o tipo da váriavel se utiliza o type() no print \n",
    "nome = \"Luis\"\n",
    "idade = 31\n",
    "\n",
    "print(type(nome))\n",
    "print(type(idade))"
   ]
  },
  {
   "cell_type": "code",
   "execution_count": null,
   "metadata": {},
   "outputs": [
    {
     "name": "stdout",
     "output_type": "stream",
     "text": [
      "luis\n",
      "henrique\n",
      "balbino\n"
     ]
    }
   ],
   "source": [
    "#cada variavel segue em cadeia \n",
    "var1, var2, var3 = \"luis\", \"henrique\", \"balbino\"\n",
    "print(var1)\n",
    "print(var2)\n",
    "print(var3)"
   ]
  },
  {
   "cell_type": "code",
   "execution_count": 2,
   "metadata": {},
   "outputs": [
    {
     "name": "stdout",
     "output_type": "stream",
     "text": [
      "Luis\n",
      "Luis\n",
      "Luis\n",
      "Luis\n"
     ]
    }
   ],
   "source": [
    "#da pra atribuir um valor para todas as variaveis utilizando o =\n",
    "var1 = var2 = var3 = var4 = \"Luis\"\n",
    "print(var1)\n",
    "print(var2)\n",
    "print(var3)\n",
    "print(var4)"
   ]
  },
  {
   "cell_type": "code",
   "execution_count": null,
   "metadata": {},
   "outputs": [],
   "source": []
  }
 ],
 "metadata": {
  "kernelspec": {
   "display_name": "base",
   "language": "python",
   "name": "python3"
  },
  "language_info": {
   "codemirror_mode": {
    "name": "ipython",
    "version": 3
   },
   "file_extension": ".py",
   "mimetype": "text/x-python",
   "name": "python",
   "nbconvert_exporter": "python",
   "pygments_lexer": "ipython3",
   "version": "3.12.7"
  }
 },
 "nbformat": 4,
 "nbformat_minor": 2
}
