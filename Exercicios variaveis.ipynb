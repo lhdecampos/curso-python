{
 "cells": [
  {
   "cell_type": "code",
   "execution_count": 2,
   "metadata": {},
   "outputs": [
    {
     "name": "stdout",
     "output_type": "stream",
     "text": [
      "125.5\n"
     ]
    }
   ],
   "source": [
    "idade = 25\n",
    "nome = \"João\"\n",
    "saldo = 100.50\n",
    "soma = idade + saldo\n",
    "print(soma)"
   ]
  },
  {
   "cell_type": "code",
   "execution_count": 5,
   "metadata": {},
   "outputs": [
    {
     "name": "stdout",
     "output_type": "stream",
     "text": [
      "A média das notas é de: 7.57\n"
     ]
    }
   ],
   "source": [
    "nota1, nota2, nota3 = 7.5, 8.3, 6.9\n",
    "media = (nota1 + nota2 + nota3) / 3\n",
    "print (\"A média das notas é de:\", format(media, \".2f\") )\n"
   ]
  }
 ],
 "metadata": {
  "kernelspec": {
   "display_name": "base",
   "language": "python",
   "name": "python3"
  },
  "language_info": {
   "codemirror_mode": {
    "name": "ipython",
    "version": 3
   },
   "file_extension": ".py",
   "mimetype": "text/x-python",
   "name": "python",
   "nbconvert_exporter": "python",
   "pygments_lexer": "ipython3",
   "version": "3.12.7"
  }
 },
 "nbformat": 4,
 "nbformat_minor": 2
}
