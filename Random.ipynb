{
 "cells": [
  {
   "cell_type": "code",
   "execution_count": null,
   "metadata": {},
   "outputs": [
    {
     "name": "stdout",
     "output_type": "stream",
     "text": [
      "75\n",
      "0.93765480832714\n",
      "20\n",
      "maça\n",
      "[2, 3, 1, 4]\n",
      "7.262537586332524\n"
     ]
    }
   ],
   "source": [
    "#random números randomicos \n",
    "import random\n",
    "\n",
    "print(random.randrange(1,100))#randrange número inteiro entre 1 e 100, ignora o 1 e 100\n",
    "print(random.random())#random número quebrado entre 0 e 1\n",
    "print(random.randint(10,20))#gera um número de 10 a 20, inclussive 10 e 20\n",
    "\n",
    "frutas = [\"maça\", \"banana\", \"cereja\"]\n",
    "print(random.choice(frutas))#escolhe aleatorio da lista \n",
    "\n",
    "#shuffle embaralha a lista aleatoriamente\n",
    "numeros = [1,2,3,4]\n",
    "random.shuffle(numeros)\n",
    "print(numeros )\n",
    "\n",
    "print(random.uniform(5.5,9.5))#numero com ponto flutuante "
   ]
  },
  {
   "cell_type": "code",
   "execution_count": null,
   "metadata": {},
   "outputs": [],
   "source": []
  }
 ],
 "metadata": {
  "kernelspec": {
   "display_name": "base",
   "language": "python",
   "name": "python3"
  },
  "language_info": {
   "codemirror_mode": {
    "name": "ipython",
    "version": 3
   },
   "file_extension": ".py",
   "mimetype": "text/x-python",
   "name": "python",
   "nbconvert_exporter": "python",
   "pygments_lexer": "ipython3",
   "version": "3.12.7"
  }
 },
 "nbformat": 4,
 "nbformat_minor": 2
}
