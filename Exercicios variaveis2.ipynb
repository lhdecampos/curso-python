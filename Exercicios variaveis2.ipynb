{
 "cells": [
  {
   "cell_type": "code",
   "execution_count": 4,
   "metadata": {},
   "outputs": [
    {
     "name": "stdout",
     "output_type": "stream",
     "text": [
      "a minha idade atual é de: 1999\n"
     ]
    }
   ],
   "source": [
    "name = \"Luis\"\n",
    "idade, ano_atual = 26, 2025\n",
    "ano_nas = ano_atual - idade\n",
    "#ano_nas = ano_nas + 1\n",
    "print(\"a minha idade atual é de:\", ano_nas)\n",
    "\n"
   ]
  }
 ],
 "metadata": {
  "kernelspec": {
   "display_name": "base",
   "language": "python",
   "name": "python3"
  },
  "language_info": {
   "codemirror_mode": {
    "name": "ipython",
    "version": 3
   },
   "file_extension": ".py",
   "mimetype": "text/x-python",
   "name": "python",
   "nbconvert_exporter": "python",
   "pygments_lexer": "ipython3",
   "version": "3.12.7"
  }
 },
 "nbformat": 4,
 "nbformat_minor": 2
}
