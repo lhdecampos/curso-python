{
 "cells": [
  {
   "cell_type": "code",
   "execution_count": 18,
   "metadata": {},
   "outputs": [
    {
     "name": "stdout",
     "output_type": "stream",
     "text": [
      "45 * 1 = 45\n",
      "45 * 2 = 90\n",
      "45 * 3 = 135\n",
      "45 * 4 = 180\n",
      "45 * 5 = 225\n",
      "45 * 6 = 270\n",
      "45 * 7 = 315\n",
      "45 * 8 = 360\n",
      "45 * 9 = 405\n",
      "45 * 10 = 450\n"
     ]
    }
   ],
   "source": [
    "numero = int(input(\"Digite um numero:\"))\n",
    "\n",
    "print(numero, \"* 1 =\", numero  * 1)\n",
    "print(numero, \"* 2 =\", numero  * 2)\n",
    "print(numero, \"* 3 =\", numero  * 3)\n",
    "print(numero, \"* 4 =\", numero  * 4)\n",
    "print(numero, \"* 5 =\", numero  * 5)\n",
    "print(numero, \"* 6 =\", numero  * 6)\n",
    "print(numero, \"* 7 =\", numero  * 7)\n",
    "print(numero, \"* 8 =\", numero  * 8)\n",
    "print(numero, \"* 9 =\", numero  * 9)\n",
    "print(numero, \"* 10 =\", numero  *10)\n"
   ]
  },
  {
   "cell_type": "code",
   "execution_count": null,
   "metadata": {},
   "outputs": [],
   "source": []
  }
 ],
 "metadata": {
  "kernelspec": {
   "display_name": "base",
   "language": "python",
   "name": "python3"
  },
  "language_info": {
   "codemirror_mode": {
    "name": "ipython",
    "version": 3
   },
   "file_extension": ".py",
   "mimetype": "text/x-python",
   "name": "python",
   "nbconvert_exporter": "python",
   "pygments_lexer": "ipython3",
   "version": "3.12.7"
  }
 },
 "nbformat": 4,
 "nbformat_minor": 2
}
